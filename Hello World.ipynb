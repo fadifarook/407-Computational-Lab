{
 "cells": [
  {
   "cell_type": "code",
   "execution_count": 1,
   "id": "12b904e6-1448-403e-b613-bd9e9f4db507",
   "metadata": {},
   "outputs": [
    {
     "data": {
      "text/plain": [
       "'hello world'"
      ]
     },
     "execution_count": 1,
     "metadata": {},
     "output_type": "execute_result"
    }
   ],
   "source": [
    "\"hello world\""
   ]
  },
  {
   "cell_type": "code",
   "execution_count": 2,
   "id": "59e6ed38-d82f-42d7-85a4-c4c0f678ff9a",
   "metadata": {},
   "outputs": [
    {
     "data": {
      "text/plain": [
       "'My name is fadi. This is 407'"
      ]
     },
     "execution_count": 2,
     "metadata": {},
     "output_type": "execute_result"
    }
   ],
   "source": [
    "\"My name is fadi. This is 407\""
   ]
  },
  {
   "cell_type": "code",
   "execution_count": null,
   "id": "0f3e14fc-28fc-479d-8db8-0b71ec1ec12b",
   "metadata": {},
   "outputs": [],
   "source": []
  }
 ],
 "metadata": {
  "kernelspec": {
   "display_name": "Python 3 (ipykernel)",
   "language": "python",
   "name": "python3"
  },
  "language_info": {
   "codemirror_mode": {
    "name": "ipython",
    "version": 3
   },
   "file_extension": ".py",
   "mimetype": "text/x-python",
   "name": "python",
   "nbconvert_exporter": "python",
   "pygments_lexer": "ipython3",
   "version": "3.11.9"
  }
 },
 "nbformat": 4,
 "nbformat_minor": 5
}
