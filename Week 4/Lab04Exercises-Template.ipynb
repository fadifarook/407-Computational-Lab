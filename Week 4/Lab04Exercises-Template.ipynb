{
 "cells": [
  {
   "cell_type": "markdown",
   "id": "5a486afc-6e00-444b-a04e-27717cac254a",
   "metadata": {
    "tags": []
   },
   "source": [
    "## Finding Roots of a Non-Linear Equation"
   ]
  },
  {
   "cell_type": "markdown",
   "id": "f3b72951",
   "metadata": {
    "tags": []
   },
   "source": [
    "Consider the equation: $5e^{-x} +x - 5 = 0$ . Suppose we want to solve it with (absolute) accuracy tolerance $\\epsilon = 10^{-6}$."
   ]
  },
  {
   "cell_type": "markdown",
   "id": "2aaaab60-c576-4fb6-aa67-a9c1759e18db",
   "metadata": {},
   "source": [
    "### Exercise 1\n",
    "Solve using binary search. How many iterations are required?"
   ]
  },
  {
   "cell_type": "code",
   "execution_count": 50,
   "id": "b13e3e71",
   "metadata": {},
   "outputs": [
    {
     "name": "stdout",
     "output_type": "stream",
     "text": [
      "Final estimate is 1.765653800944733e-07 at x = 4.965114414691925\n",
      "Took 24 tries\n"
     ]
    }
   ],
   "source": [
    "import numpy as np\n",
    "\n",
    "\n",
    "def f(x):\n",
    "    return 5 * np.exp(-x) + x - 5\n",
    "\n",
    "\n",
    "# Binary search (x1 and x2 both on either side of 0)\n",
    "x2 = 10\n",
    "x1 = 1\n",
    "eps = 1e-6\n",
    "\n",
    "if f(x1) * f(x2) > 0:\n",
    "    raise ValueError(\"f(x1) and f(x2) have the same sign\")\n",
    "\n",
    "midpoint = 0\n",
    "\n",
    "iterations = 0\n",
    "\n",
    "while abs(f(x2) - f(x1)) > eps:\n",
    "    midpoint = 0.5 * (x1 + x2)\n",
    "    iterations += 1\n",
    "\n",
    "    if np.sign(f(midpoint)) == np.sign(f(x1)):\n",
    "        x1 = midpoint\n",
    "    else:\n",
    "        x2 = midpoint\n",
    "\n",
    "print(f\"Final estimate is {f(midpoint)} at x = {midpoint}\")\n",
    "print(f\"Took {iterations} tries\")"
   ]
  },
  {
   "cell_type": "markdown",
   "id": "8a9be76f-485f-4bfe-ae9d-9fd83c1af802",
   "metadata": {},
   "source": [
    "### Exercise 2\n",
    "Solve using relaxation. How many iterations are required?"
   ]
  },
  {
   "cell_type": "code",
   "execution_count": 51,
   "id": "efa4528d",
   "metadata": {},
   "outputs": [
    {
     "name": "stdout",
     "output_type": "stream",
     "text": [
      "Took 5 tries with f(x) being 4.8664622553928893e-08 at x=4.965114282167968\n"
     ]
    }
   ],
   "source": [
    "# Relaxation method\n",
    "\n",
    "\n",
    "def isolatedf(x):\n",
    "    return 5 - 5 * np.exp(-x)  # solve for x in the main equation\n",
    "\n",
    "\n",
    "x = 10\n",
    "\n",
    "iterations = 0\n",
    "while abs(f(x)) > eps:\n",
    "    x = isolatedf(x)\n",
    "    iterations += 1\n",
    "\n",
    "print(f\"Took {iterations} tries with f(x) being {f(x)} at x={x}\")"
   ]
  },
  {
   "cell_type": "markdown",
   "id": "6b66917e-862d-4cf5-a649-9fa6adea7eae",
   "metadata": {},
   "source": [
    "### Exercise 3\n",
    "Solve using Newton's Method. How many iterations are required?"
   ]
  },
  {
   "cell_type": "code",
   "execution_count": 52,
   "id": "e531b3c6",
   "metadata": {},
   "outputs": [
    {
     "name": "stdout",
     "output_type": "stream",
     "text": [
      "Took 3 tries with f(x) being 6.865619184281968e-12 at x=4.96511423175139\n"
     ]
    }
   ],
   "source": [
    "# Newton's Method\n",
    "\n",
    "\n",
    "def fprime(x):\n",
    "    # Done analytically\n",
    "    return -5 * np.exp(-x) + 1\n",
    "\n",
    "\n",
    "x = 10\n",
    "iterations = 0\n",
    "\n",
    "while abs(f(x)) > eps:\n",
    "    x = x - f(x) / fprime(x)\n",
    "    iterations += 1\n",
    "\n",
    "print(f\"Took {iterations} tries with f(x) being {f(x)} at x={x}\")"
   ]
  },
  {
   "cell_type": "markdown",
   "id": "0f65aac9-902b-4fb8-bd8f-4c8c5a796875",
   "metadata": {},
   "source": [
    "### Exercise 4\n",
    "Solve using Secant Method. How many iterations are required?"
   ]
  },
  {
   "cell_type": "code",
   "execution_count": 53,
   "id": "6a318c29",
   "metadata": {},
   "outputs": [
    {
     "name": "stdout",
     "output_type": "stream",
     "text": [
      "Took 2 tries with f(x) being 2.5934809855243657e-12 at x=4.965114231746964\n"
     ]
    }
   ],
   "source": [
    "# Secant method (don't know derivative)\n",
    "\n",
    "\n",
    "def secant(x1, x2, func):\n",
    "    temp = func(x2) - f(x1)\n",
    "    return temp / (x2 - x1)\n",
    "\n",
    "\n",
    "x0 = 10\n",
    "x1 = 7\n",
    "\n",
    "iterations = 0\n",
    "\n",
    "while abs(f(x1)) > eps:\n",
    "\n",
    "    iterations += 1\n",
    "\n",
    "    x2 = x1 - f(x1) / secant(x1, x0, f)\n",
    "\n",
    "    x3 = x2 - f(x2) / secant(x1, x2, f)\n",
    "\n",
    "    x0, x1 = x2, x3\n",
    "\n",
    "print(f\"Took {iterations} tries with f(x) being {f(x1)} at x={x1}\")"
   ]
  },
  {
   "cell_type": "markdown",
   "id": "e3d4efb4",
   "metadata": {
    "tags": []
   },
   "source": [
    "## Fun with Circuits"
   ]
  },
  {
   "cell_type": "markdown",
   "id": "169a643b-030a-4f83-8478-73cfda955b0c",
   "metadata": {
    "jp-MarkdownHeadingCollapsed": true,
    "tags": []
   },
   "source": [
    "### Physics background"
   ]
  },
  {
   "cell_type": "markdown",
   "id": "c1a28903",
   "metadata": {},
   "source": [
    "![Newman's Exercise 6.5](rescap.png)"
   ]
  },
  {
   "cell_type": "markdown",
   "id": "c6c82a27",
   "metadata": {},
   "source": [
    "Consider the above circuit. Suppose the voltage $V_+$ is time-varying and sinusoidal of the form $V_+ = x_+ \\exp(i \\omega t)$ with $x_+$ a constant.\n",
    "\n",
    "The resistors in the circuit can be treated using Ohm's law.\n",
    "For the capacitors the charge $Q$ and voltage $V$ across them are related by the capacitor law $Q=CV$, where $C$ is the capacitance.\n",
    "Differentiating both sides of this expression gives the current $I$ flowing in on one side of the capacitor and out on the other:\n",
    "\\begin{equation}\n",
    "  I = \\frac{dQ}{dt} = C \\frac{dV}{dt}.\n",
    "\\end{equation}\n",
    "Now assume the voltages at the points labeled 1, 2, and 3 are of the form $V_1 = x_1 \\exp(i \\omega t)$, $V_2 = x_2 \\exp(i \\omega t)$, and $V_3 = x_3 \\exp(i \\omega t)$.\n",
    "If you add up the currents using Kirchoff's law that at a junction the sum of the currents in equals the sum of the currents out, you can find that the constants $x_1$,\n",
    "$x_2$, and $x_3$ satisfy the equations\n",
    "\n",
    "\\begin{align*}\n",
    "  \\left( {1\\over R_1} + {1\\over R_4} + i\\omega C_1 \\right) x_1 - i\\omega C_1 x_2\n",
    "  & = {x_+\\over R_1}\\,, \\\\\n",
    "  - i\\omega C_1 x_1 + \\left( {1\\over R_2} + {1\\over R_5} + i\\omega C_1 + i\\omega C_2 \\right) x_2 - i\\omega C_2 x_3\n",
    "                                                                                           & = {x_+\\over R_2}\\,, \\\\\n",
    "  - i\\omega C_2 x_2 + \\left( {1\\over R_3} + {1\\over R_6} + i\\omega C_2 \\right) x_3\n",
    "  & = {x_+\\over R_3}\\,.\n",
    "\\end{align*}\n",
    "This is a linear system of equations for three complex numbers, $x_1$, $x_2$, and $x_3$."
   ]
  },
  {
   "cell_type": "markdown",
   "id": "f8a82175-8163-4eed-8596-28e65263e267",
   "metadata": {},
   "source": [
    "We will be solving the above linear system of equations in the form $A x = b$, where $x$ is the vector $(x_1 x_2 x_3$ and $b$ is the vector composed of the right-hand sides of the equations above.\n",
    "\n",
    "The following function takes as input the list of resistance values ($R_1$ to $R_6$) and the list of capacitances ($C_1$ and $C_2$), and returns (as numpy.array) the matrix $A$. "
   ]
  },
  {
   "cell_type": "code",
   "execution_count": 54,
   "id": "4acd1f7a-595e-407d-8dfe-0e29c44c9cfd",
   "metadata": {
    "tags": []
   },
   "outputs": [],
   "source": [
    "def CircuitMatrix(R, C):\n",
    "    \"\"\"I define the matrix A as a function of the one element we turn from a\n",
    "    resistor to an inductor\n",
    "    IN: element [complex]: the resistor or inductor\n",
    "    R_ [float]: list of resistors R1 to R5\n",
    "    C_ [complex]: list of capacitances C1 and C2\n",
    "    \"\"\"\n",
    "    A = np.empty((3, 3), complex)\n",
    "\n",
    "    # 1st line of matrix\n",
    "    A[0, 0] = 1.0 / R[1] + 1.0 / R[4] + C[1]\n",
    "    A[0, 1] = -C[1]\n",
    "    A[0, 2] = 0.0\n",
    "\n",
    "    # 2nd line of matrix\n",
    "    A[1, 0] = -C[1]\n",
    "    print(C[2])\n",
    "    A[1, 1] = 1.0 / R[2] + 1.0 / R[5] + C[1] + C[2]\n",
    "    A[1, 2] = -C[2]\n",
    "\n",
    "    # 3rd line of matrix\n",
    "    A[2, 0] = 0.0\n",
    "    A[2, 1] = -C[2]\n",
    "    A[2, 2] = 1.0 / R[3] + 1.0 / R[6] + C[2]\n",
    "\n",
    "    return A"
   ]
  },
  {
   "cell_type": "markdown",
   "id": "2162f021-f59d-4a4e-aca5-4296ae52b309",
   "metadata": {},
   "source": [
    "And the following function takes as input the list of resistance values and the value of $x+$, and returns (as numpy.array) the vector $b$."
   ]
  },
  {
   "cell_type": "code",
   "execution_count": 55,
   "id": "81ef13bc-49be-4f0c-b187-4d4d1f91fb3a",
   "metadata": {},
   "outputs": [],
   "source": [
    "def RHS(R, xplus):\n",
    "    return xplus * np.array([1.0 / R[1], 1.0 / R[2], 1.0 / R[3]], complex)"
   ]
  },
  {
   "cell_type": "markdown",
   "id": "4dd6e2c2-0b82-46b1-8a27-e5e709a01a2d",
   "metadata": {
    "tags": []
   },
   "source": [
    "### Exercise 5"
   ]
  },
  {
   "cell_type": "markdown",
   "id": "cc520b62",
   "metadata": {},
   "source": [
    "Use Gaussian Elimination with partial pivoting (see the code fragment below) to solve for $x_1$, $x_2$, and $x_3$. Assume the following:\n",
    "\n",
    "\\begin{align*}\n",
    "  R_1 &= R_3 = R_5 = 1\\,\\mathrm{k}\\Omega, \\\\\n",
    "  R_2 &= R_4 = R_6 = 2\\,\\mathrm{k}\\Omega, \\\\\n",
    "  C_1 &= 1\\,\\mu\\mathrm{F},\\qquad C_2 = 0.5\\,\\mu\\mathrm{F}, \\\\\n",
    "  x_+ &= 3\\,\\mathrm{V},\\qquad \\omega = 1000~\\text{rad/s}.\n",
    "\\end{align*}\n",
    "\n",
    "Have your program calculate and print, at $t=0$, the amplitudes of the three voltages $|V_1|$, $|V_2|$, and $|V_3|$ and their phases (i.e. the phases of the coefficients $x_1, x_2, x_3$) in degrees."
   ]
  },
  {
   "cell_type": "markdown",
   "id": "b5056cd3-37a2-4bd1-b1e5-2afe70c6d8c5",
   "metadata": {},
   "source": [
    "*Notice that the matrix for this problem has complex elements. You will need to define a complex array to hold it, but your routine should be able to work with real or complex arguments.*\n",
    "\n",
    "*Hint: the built-in abs() will compute the magnitude, and numpy.angle() will compute the phase of a complex number. You could also use polar and phase from the cmath package.*"
   ]
  },
  {
   "cell_type": "code",
   "execution_count": 56,
   "id": "b6121450-ef31-42cb-81d2-7960651e0f31",
   "metadata": {
    "tags": []
   },
   "outputs": [],
   "source": [
    "import numpy as np\n",
    "\n",
    "\n",
    "def GaussElim(A_in, v_in, pivot=False):\n",
    "    \"\"\"Implement Gaussian Elimination. This should be non-destructive for input\n",
    "    arrays, so we will copy A and v to temporary variables\n",
    "    IN:\n",
    "    A_in [np.array], the matrix to pivot and triangularize\n",
    "    v_in [np.array], the RHS vector\n",
    "    pivot [bool, default-False]: user decides if we pivot or not.\n",
    "    OUT:\n",
    "    x, the vector solution of A_in x = v_in\"\"\"\n",
    "    # copy A and v to temporary variables using copy command\n",
    "    A = np.copy(A_in)\n",
    "    v = np.copy(v_in)\n",
    "    N = len(v)\n",
    "\n",
    "    for m in range(N):\n",
    "        if pivot:  # This is where I modify GaussElim\n",
    "            # compare the mth element to all other mth elements below\n",
    "            ZeRow = m\n",
    "            for mm in range(m + 1, N):\n",
    "                if abs(A[mm, m]) > abs(A[ZeRow, m]):\n",
    "                    ZeRow = mm  # I could swap everytime I find a hit, but that\n",
    "                    # would be a lot of operations. Instead, I just take note\n",
    "                    # of which row emerges as the winner\n",
    "\n",
    "            if ZeRow != m:  # now we know if and what to swap\n",
    "                A[ZeRow, :], A[m, :] = np.copy(A[m, :]), np.copy(A[ZeRow, :])\n",
    "                v[ZeRow], v[m] = np.copy(v[m]), np.copy(v[ZeRow])\n",
    "\n",
    "        # Divide by the diagonal element\n",
    "        div = A[m, m]\n",
    "        A[m, :] /= div\n",
    "        v[m] /= div\n",
    "\n",
    "        # Now subtract from the lower rows\n",
    "        for i in range(m + 1, N):\n",
    "            mult = A[i, m]\n",
    "            A[i, :] -= mult * A[m, :]\n",
    "            v[i] -= mult * v[m]\n",
    "\n",
    "    # Backsubstitution\n",
    "    # create an array of the same type as the input array\n",
    "    x = np.empty(N, dtype=v.dtype)\n",
    "    for m in range(N - 1, -1, -1):\n",
    "        x[m] = v[m]\n",
    "        for i in range(m + 1, N):\n",
    "            x[m] -= A[m, i] * x[i]\n",
    "    return x\n",
    "\n",
    "\n",
    "def PartialPivot(A_in, v_in):\n",
    "    \"\"\"see textbook p. 222)\"\"\"\n",
    "    return GaussElim(A_in, v_in, True)"
   ]
  },
  {
   "cell_type": "code",
   "execution_count": 57,
   "id": "15a29cf8",
   "metadata": {},
   "outputs": [
    {
     "name": "stdout",
     "output_type": "stream",
     "text": [
      "0.0005j\n",
      "|Voltage1| = 1.7014390658777339 --> Phase = -0.09545371433271428\n",
      "|Voltage2| = 1.4806053465364062 --> Phase = 0.20216879328855675\n",
      "|Voltage3| = 1.8607693200562132 --> Phase = -0.07268725004282395\n"
     ]
    }
   ],
   "source": [
    "# Doing the gaussian elimination method, no need for pivot with these values\n",
    "\n",
    "R = np.array([0, 1, 2, 1, 2, 1, 2], complex) * 1000.0  # kiloohms to ohms\n",
    "C = np.array([0, 1, 0.5], complex) * 1e-6  # microfarad to farad\n",
    "\n",
    "# NOTE: THE DEFINITION OF THE FUNCTION TAKES C[1] and C[2] AS THE VALUES\n",
    "# NEED TO SET C WITH AN EXTRA VALUE AT THE FIRST INDEX. SAME FOR R\n",
    "\n",
    "xplus = 3  # V\n",
    "omega = 1000  # rad/s\n",
    "\n",
    "C *= 1j * omega  # since this is how the matrix function is defined\n",
    "\n",
    "A = CircuitMatrix(R, C)  # matrix for the system of linear equations\n",
    "v = RHS(R, xplus)\n",
    "\n",
    "\n",
    "# Calculation\n",
    "\n",
    "Voltages = GaussElim(A, v, pivot=False)\n",
    "\n",
    "amplitudes = np.abs(Voltages)\n",
    "phases = np.angle(Voltages)\n",
    "\n",
    "for i in range(3):\n",
    "    print(f\"|Voltage{i+1}| = {amplitudes[i]} --> Phase = {phases[i]}\")"
   ]
  },
  {
   "cell_type": "code",
   "execution_count": null,
   "id": "0c832758",
   "metadata": {},
   "outputs": [],
   "source": []
  }
 ],
 "metadata": {
  "kernelspec": {
   "display_name": ".venv",
   "language": "python",
   "name": "python3"
  },
  "language_info": {
   "codemirror_mode": {
    "name": "ipython",
    "version": 3
   },
   "file_extension": ".py",
   "mimetype": "text/x-python",
   "name": "python",
   "nbconvert_exporter": "python",
   "pygments_lexer": "ipython3",
   "version": "3.12.3"
  }
 },
 "nbformat": 4,
 "nbformat_minor": 5
}
