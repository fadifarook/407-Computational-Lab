{
 "cells": [
  {
   "cell_type": "code",
   "execution_count": 6,
   "metadata": {},
   "outputs": [],
   "source": [
    "import numpy as np\n",
    "import matplotlib.pyplot as plt\n",
    "def cosine_wave(time, amplitude, period, phase):\n",
    "    \"\"\"Generate a sine wave with known amplitude, period, and phase\"\"\"\n",
    "    return amplitude * np.cos((time/period + phase) * 2 * np.pi)\n",
    "\n",
    "t = np.linspace(0, 100, 1000)\n",
    "y = cosine_wave(t, 3, 20, 0.)\n",
    "fft1 = np.fft.fft(y)\n",
    "fft2 = np.fft.ifft(y)\n",
    "fft3 = np.fft.rfft(y)  # halves the dataset\n",
    "fft4 = np.fft.irfft(y)  # times the dataset by 2\n"
   ]
  },
  {
   "cell_type": "code",
   "execution_count": 7,
   "metadata": {},
   "outputs": [
    {
     "name": "stdout",
     "output_type": "stream",
     "text": [
      "1500.6886600757305 1.5006886600757305\n",
      "1500.6886600757305 1.4999999999999998\n",
      "3.0\n"
     ]
    }
   ],
   "source": [
    "amp1 = np.abs(fft1)\n",
    "amp2 = np.abs(fft2)\n",
    "amp3 = np.abs(fft3)\n",
    "amp4 = np.abs(fft4)\n",
    "# Are any of the following numbers what you expect?\n",
    "print(amp1.max(), amp2.max())  # need to mulyiply by 2/N  and 2\n",
    "print(amp3.max(), amp4.max())  # need to mulyiply by 2/N  and 2\n",
    "print(max(y))"
   ]
  },
  {
   "cell_type": "code",
   "execution_count": 8,
   "metadata": {},
   "outputs": [
    {
     "name": "stdout",
     "output_type": "stream",
     "text": [
      "1000 501\n"
     ]
    },
    {
     "data": {
      "text/plain": [
       "'Inverse FFt always divides by the length of the frequency array, and then doubles it or not'"
      ]
     },
     "execution_count": 8,
     "metadata": {},
     "output_type": "execute_result"
    }
   ],
   "source": [
    "print(len(t), len(fft3))\n",
    "\n",
    "\"Inverse FFt always divides by the length of the frequency array, and then doubles it or not\""
   ]
  },
  {
   "cell_type": "code",
   "execution_count": 9,
   "metadata": {},
   "outputs": [
    {
     "name": "stdout",
     "output_type": "stream",
     "text": [
      "1000 1000\n",
      "501 1998\n"
     ]
    }
   ],
   "source": [
    "print(len(fft1), len(fft2))\n",
    "print(len(fft3), len(fft4))"
   ]
  }
 ],
 "metadata": {
  "kernelspec": {
   "display_name": ".venv",
   "language": "python",
   "name": "python3"
  },
  "language_info": {
   "codemirror_mode": {
    "name": "ipython",
    "version": 3
   },
   "file_extension": ".py",
   "mimetype": "text/x-python",
   "name": "python",
   "nbconvert_exporter": "python",
   "pygments_lexer": "ipython3",
   "version": "3.12.3"
  }
 },
 "nbformat": 4,
 "nbformat_minor": 2
}
