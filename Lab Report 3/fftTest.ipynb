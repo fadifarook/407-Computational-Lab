{
 "cells": [
  {
   "cell_type": "code",
   "execution_count": 1,
   "metadata": {},
   "outputs": [],
   "source": [
    "import numpy as np\n",
    "import matplotlib.pyplot as plt\n",
    "def cosine_wave(time, amplitude, period, phase):\n",
    "    \"\"\"Generate a sine wave with known amplitude, period, and phase\"\"\"\n",
    "    return amplitude * np.cos((time/period + phase) * 2 * np.pi)\n",
    "\n",
    "t = np.linspace(0, 100, 1000)\n",
    "y = cosine_wave(t, 3, 20, 0.)\n",
    "fft1 = np.fft.fft(y)\n",
    "fft2 = np.fft.ifft(y)\n",
    "fft3 = np.fft.rfft(y)  # halves the dataset\n",
    "fft4 = np.fft.irfft(y)  # times the dataset by 2\n"
   ]
  },
  {
   "cell_type": "code",
   "execution_count": 2,
   "metadata": {},
   "outputs": [
    {
     "name": "stdout",
     "output_type": "stream",
     "text": [
      "1500.6886600757305 1.5006886600757305\n",
      "1500.6886600757305 1.4999999999999998\n",
      "3.0\n"
     ]
    }
   ],
   "source": [
    "amp1 = np.abs(fft1)\n",
    "amp2 = np.abs(fft2)\n",
    "amp3 = np.abs(fft3)\n",
    "amp4 = np.abs(fft4)\n",
    "# Are any of the following numbers what you expect?\n",
    "print(amp1.max(), amp2.max())  # need to mulyiply by 2/N  and 2\n",
    "print(amp3.max(), amp4.max())  # need to mulyiply by 2/N  and 2\n",
    "print(max(y))"
   ]
  },
  {
   "cell_type": "code",
   "execution_count": 3,
   "metadata": {},
   "outputs": [
    {
     "name": "stdout",
     "output_type": "stream",
     "text": [
      "1000 501\n"
     ]
    },
    {
     "data": {
      "text/plain": [
       "'Inverse FFt always divides by the length of the frequency array, and then doubles it or not'"
      ]
     },
     "execution_count": 3,
     "metadata": {},
     "output_type": "execute_result"
    }
   ],
   "source": [
    "print(len(t), len(fft3))\n",
    "\n",
    "\"Inverse FFt always divides by the length of the frequency array, and then doubles it or not\""
   ]
  },
  {
   "cell_type": "code",
   "execution_count": 4,
   "metadata": {},
   "outputs": [
    {
     "name": "stdout",
     "output_type": "stream",
     "text": [
      "1000 1000\n",
      "501 1998\n"
     ]
    }
   ],
   "source": [
    "print(len(fft1), len(fft2))\n",
    "print(len(fft3), len(fft4))"
   ]
  },
  {
   "cell_type": "code",
   "execution_count": 5,
   "metadata": {},
   "outputs": [
    {
     "data": {
      "text/plain": [
       "[<matplotlib.lines.Line2D at 0x70479f5e96a0>]"
      ]
     },
     "execution_count": 5,
     "metadata": {},
     "output_type": "execute_result"
    },
    {
     "data": {
      "image/png": "[encoded data removed]",
      "text/plain": [
       "<Figure size 640x480 with 1 Axes>"
      ]
     },
     "metadata": {},
     "output_type": "display_data"
    }
   ],
   "source": [
    "# check if the phase is right\n",
    "\n",
    "# print(np.arctan2(np.imag(fft1), np.real(fft1)))\n",
    "plt.plot(fft4)"
   ]
  }
 ],
 "metadata": {
  "kernelspec": {
   "display_name": ".venv",
   "language": "python",
   "name": "python3"
  },
  "language_info": {
   "codemirror_mode": {
    "name": "ipython",
    "version": 3
   },
   "file_extension": ".py",
   "mimetype": "text/x-python",
   "name": "python",
   "nbconvert_exporter": "python",
   "pygments_lexer": "ipython3",
   "version": "3.12.3"
  }
 },
 "nbformat": 4,
 "nbformat_minor": 2
}
